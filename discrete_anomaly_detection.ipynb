{
 "cells": [
  {
   "cell_type": "code",
   "execution_count": 2,
   "id": "8e70e8a0",
   "metadata": {},
   "outputs": [],
   "source": [
    "import matplotlib.pyplot as plt\n",
    "import numpy as np\n",
    "import pandas as pd\n",
    "import seaborn as sns\n",
    "from sklearn import metrics\n",
    "import env"
   ]
  },
  {
   "cell_type": "code",
   "execution_count": 4,
   "id": "8300a9d6",
   "metadata": {},
   "outputs": [
    {
     "data": {
      "text/html": [
       "<div>\n",
       "<style scoped>\n",
       "    .dataframe tbody tr th:only-of-type {\n",
       "        vertical-align: middle;\n",
       "    }\n",
       "\n",
       "    .dataframe tbody tr th {\n",
       "        vertical-align: top;\n",
       "    }\n",
       "\n",
       "    .dataframe thead th {\n",
       "        text-align: right;\n",
       "    }\n",
       "</style>\n",
       "<table border=\"1\" class=\"dataframe\">\n",
       "  <thead>\n",
       "    <tr style=\"text-align: right;\">\n",
       "      <th></th>\n",
       "      <th>ip</th>\n",
       "      <th>timestamp</th>\n",
       "      <th>request_method</th>\n",
       "      <th>request_path</th>\n",
       "      <th>http_version</th>\n",
       "      <th>status_code</th>\n",
       "      <th>size</th>\n",
       "      <th>user_agent</th>\n",
       "    </tr>\n",
       "  </thead>\n",
       "  <tbody>\n",
       "    <tr>\n",
       "      <th>0</th>\n",
       "      <td>97.105.19.58</td>\n",
       "      <td>16/Apr/2019 19:34:42</td>\n",
       "      <td>GET</td>\n",
       "      <td>/api/v1/sales?page=81</td>\n",
       "      <td>HTTP/1.1</td>\n",
       "      <td>200</td>\n",
       "      <td>512495</td>\n",
       "      <td>python-requests/2.21.0</td>\n",
       "    </tr>\n",
       "    <tr>\n",
       "      <th>1</th>\n",
       "      <td>97.105.19.58</td>\n",
       "      <td>16/Apr/2019 19:34:42</td>\n",
       "      <td>GET</td>\n",
       "      <td>/api/v1/items</td>\n",
       "      <td>HTTP/1.1</td>\n",
       "      <td>200</td>\n",
       "      <td>3561</td>\n",
       "      <td>python-requests/2.21.0</td>\n",
       "    </tr>\n",
       "    <tr>\n",
       "      <th>2</th>\n",
       "      <td>97.105.19.58</td>\n",
       "      <td>16/Apr/2019 19:34:44</td>\n",
       "      <td>GET</td>\n",
       "      <td>/api/v1/sales?page=82</td>\n",
       "      <td>HTTP/1.1</td>\n",
       "      <td>200</td>\n",
       "      <td>510103</td>\n",
       "      <td>python-requests/2.21.0</td>\n",
       "    </tr>\n",
       "    <tr>\n",
       "      <th>3</th>\n",
       "      <td>97.105.19.58</td>\n",
       "      <td>16/Apr/2019 19:34:46</td>\n",
       "      <td>GET</td>\n",
       "      <td>/api/v1/sales?page=83</td>\n",
       "      <td>HTTP/1.1</td>\n",
       "      <td>200</td>\n",
       "      <td>510003</td>\n",
       "      <td>python-requests/2.21.0</td>\n",
       "    </tr>\n",
       "    <tr>\n",
       "      <th>4</th>\n",
       "      <td>97.105.19.58</td>\n",
       "      <td>16/Apr/2019 19:34:48</td>\n",
       "      <td>GET</td>\n",
       "      <td>/api/v1/sales?page=84</td>\n",
       "      <td>HTTP/1.1</td>\n",
       "      <td>200</td>\n",
       "      <td>511963</td>\n",
       "      <td>python-requests/2.21.0</td>\n",
       "    </tr>\n",
       "  </tbody>\n",
       "</table>\n",
       "</div>"
      ],
      "text/plain": [
       "             ip             timestamp request_method           request_path  \\\n",
       "0  97.105.19.58  16/Apr/2019 19:34:42            GET  /api/v1/sales?page=81   \n",
       "1  97.105.19.58  16/Apr/2019 19:34:42            GET          /api/v1/items   \n",
       "2  97.105.19.58  16/Apr/2019 19:34:44            GET  /api/v1/sales?page=82   \n",
       "3  97.105.19.58  16/Apr/2019 19:34:46            GET  /api/v1/sales?page=83   \n",
       "4  97.105.19.58  16/Apr/2019 19:34:48            GET  /api/v1/sales?page=84   \n",
       "\n",
       "  http_version status_code    size              user_agent  \n",
       "0     HTTP/1.1         200  512495  python-requests/2.21.0  \n",
       "1     HTTP/1.1         200    3561  python-requests/2.21.0  \n",
       "2     HTTP/1.1         200  510103  python-requests/2.21.0  \n",
       "3     HTTP/1.1         200  510003  python-requests/2.21.0  \n",
       "4     HTTP/1.1         200  511963  python-requests/2.21.0  "
      ]
     },
     "execution_count": 4,
     "metadata": {},
     "output_type": "execute_result"
    }
   ],
   "source": [
    "def parse_log_entry(entry):\n",
    "    parts = entry.split()\n",
    "    output = {}\n",
    "    output['ip'] = parts[0]\n",
    "    output['timestamp'] = parts[3][1:].replace(':', ' ', 1)\n",
    "    output['request_method'] = parts[5][1:]\n",
    "    output['request_path'] = parts[6]\n",
    "    output['http_version'] = parts[7][:-1]\n",
    "    output['status_code'] = parts[8]\n",
    "    output['size'] = int(parts[9])\n",
    "    output['user_agent'] = ' '.join(parts[11:]).replace('\"', '')\n",
    "    return pd.Series(output)\n",
    "\n",
    "url = f'mysql+pymysql://{env.username}:{env.password}@{env.host}/logs'\n",
    "df = pd.read_sql('SELECT * FROM api_access', url)\n",
    "# df = pd.concat([df.entry, df.entry.apply(parse_log_entry)], axis=1)\n",
    "df = df.entry.apply(parse_log_entry)\n",
    "df.head()"
   ]
  },
  {
   "cell_type": "code",
   "execution_count": 5,
   "id": "7b77998f",
   "metadata": {},
   "outputs": [
    {
     "name": "stderr",
     "output_type": "stream",
     "text": [
      "/var/folders/qf/t052sdrx70bffjpl89m9_hz00000gn/T/ipykernel_77168/447971755.py:8: FutureWarning: The frame.append method is deprecated and will be removed from pandas in a future version. Use pandas.concat instead.\n",
      "  df = df.append(new)\n"
     ]
    }
   ],
   "source": [
    "new = pd.DataFrame([\n",
    "    [\"95.31.18.119\", \"21/Apr/2019 10:02:41\", \"GET\", \"/api/v1/items/\", \"HTTP/1.1\", '200', 1153005, \"python-requests/2.21.0\"],\n",
    "    [\"95.31.16.121\", \"17/Apr/2019 19:36:41\", \"GET\", \"/api/v1/sales?page=79/\", \"HTTP/1.1\", '301', 1005, \"python-requests/2.21.0\"],\n",
    "    [\"97.105.15.120\", \"18/Apr/2019 19:42:41\", \"GET\", \"/api/v1/sales?page=79/\", \"HTTP/1.1\", '301', 2560, \"python-requests/2.21.0\"],\n",
    "    [\"97.105.19.58\", \"19/Apr/2019 19:42:41\", \"GET\", \"/api/v1/sales?page=79/\", \"HTTP/1.1\", '200', 2056327, \"python-requests/2.21.0\"],\n",
    "], columns=df.columns)\n",
    "\n",
    "df = df.append(new)\n"
   ]
  },
  {
   "cell_type": "code",
   "execution_count": 6,
   "id": "de61110d",
   "metadata": {},
   "outputs": [],
   "source": [
    "df['size_mb'] = df['size'] / 1024 / 1024\n",
    "df.timestamp = pd.to_datetime(df.timestamp)\n",
    "df = df.set_index('timestamp')\n"
   ]
  },
  {
   "cell_type": "code",
   "execution_count": 7,
   "id": "e0a7b367",
   "metadata": {},
   "outputs": [
    {
     "data": {
      "text/plain": [
       "/api/v1/sales?page=2               709\n",
       "/api/v1/items                      464\n",
       "/api/v1/items?page=2               291\n",
       "/api/v1/items?page=3               219\n",
       "/api/v1/stores                     162\n",
       "                                  ... \n",
       "/api/v1                              1\n",
       "/api/v1//api/v1/items/next_page      1\n",
       "/api/v1//api/v1/items                1\n",
       "/api/v1/items?page=0                 1\n",
       "/api/V1/HiZach!                      1\n",
       "Name: request_path, Length: 220, dtype: int64"
      ]
     },
     "execution_count": 7,
     "metadata": {},
     "output_type": "execute_result"
    }
   ],
   "source": [
    "df['request_path'].value_counts()"
   ]
  },
  {
   "cell_type": "code",
   "execution_count": 8,
   "id": "656d5913",
   "metadata": {},
   "outputs": [
    {
     "data": {
      "text/plain": [
       "/api/v1/sales?page=2               0.050723\n",
       "/api/v1/items                      0.033195\n",
       "/api/v1/items?page=2               0.020818\n",
       "/api/v1/items?page=3               0.015667\n",
       "/api/v1/stores                     0.011590\n",
       "                                     ...   \n",
       "/api/v1                            0.000072\n",
       "/api/v1//api/v1/items/next_page    0.000072\n",
       "/api/v1//api/v1/items              0.000072\n",
       "/api/v1/items?page=0               0.000072\n",
       "/api/V1/HiZach!                    0.000072\n",
       "Name: request_path, Length: 220, dtype: float64"
      ]
     },
     "execution_count": 8,
     "metadata": {},
     "output_type": "execute_result"
    }
   ],
   "source": [
    "df['request_path'].value_counts(normalize=True)"
   ]
  },
  {
   "cell_type": "code",
   "execution_count": 9,
   "id": "400efe89",
   "metadata": {},
   "outputs": [
    {
     "data": {
      "text/plain": [
       "494819     705\n",
       "3561       548\n",
       "3659       291\n",
       "1328       229\n",
       "1787       219\n",
       "          ... \n",
       "343913       1\n",
       "360297       1\n",
       "327529       1\n",
       "278377       1\n",
       "2056327      1\n",
       "Name: size, Length: 191, dtype: int64"
      ]
     },
     "execution_count": 9,
     "metadata": {},
     "output_type": "execute_result"
    }
   ],
   "source": [
    "df['size'].value_counts()"
   ]
  },
  {
   "cell_type": "code",
   "execution_count": 10,
   "id": "ee18fd02",
   "metadata": {},
   "outputs": [
    {
     "data": {
      "text/plain": [
       "GET    13978\n",
       "Name: request_method, dtype: int64"
      ]
     },
     "execution_count": 10,
     "metadata": {},
     "output_type": "execute_result"
    }
   ],
   "source": [
    "df['request_method'].value_counts()"
   ]
  },
  {
   "cell_type": "code",
   "execution_count": 11,
   "id": "9aaebf3d",
   "metadata": {},
   "outputs": [
    {
     "data": {
      "text/plain": [
       "HTTP/1.1    13978\n",
       "Name: http_version, dtype: int64"
      ]
     },
     "execution_count": 11,
     "metadata": {},
     "output_type": "execute_result"
    }
   ],
   "source": [
    "df['http_version'].value_counts()"
   ]
  },
  {
   "cell_type": "code",
   "execution_count": 12,
   "id": "545b807d",
   "metadata": {},
   "outputs": [],
   "source": [
    "def value_counts_and_frequencies(s: pd.Series, dropna=True) -> pd.DataFrame:\n",
    "    return pd.merge(\n",
    "        s.value_counts(dropna=False).rename('count'),\n",
    "        s.value_counts(dropna=False, normalize=True).rename('proba'),\n",
    "        left_index=True,\n",
    "        right_index=True,\n",
    "    )"
   ]
  },
  {
   "cell_type": "code",
   "execution_count": 14,
   "id": "8b19303d",
   "metadata": {},
   "outputs": [
    {
     "data": {
      "text/html": [
       "<div>\n",
       "<style scoped>\n",
       "    .dataframe tbody tr th:only-of-type {\n",
       "        vertical-align: middle;\n",
       "    }\n",
       "\n",
       "    .dataframe tbody tr th {\n",
       "        vertical-align: top;\n",
       "    }\n",
       "\n",
       "    .dataframe thead th {\n",
       "        text-align: right;\n",
       "    }\n",
       "</style>\n",
       "<table border=\"1\" class=\"dataframe\">\n",
       "  <thead>\n",
       "    <tr style=\"text-align: right;\">\n",
       "      <th></th>\n",
       "      <th>count</th>\n",
       "      <th>proba</th>\n",
       "    </tr>\n",
       "  </thead>\n",
       "  <tbody>\n",
       "    <tr>\n",
       "      <th>/api/v1/sales?page=2</th>\n",
       "      <td>709</td>\n",
       "      <td>0.050723</td>\n",
       "    </tr>\n",
       "    <tr>\n",
       "      <th>/api/v1/items</th>\n",
       "      <td>464</td>\n",
       "      <td>0.033195</td>\n",
       "    </tr>\n",
       "    <tr>\n",
       "      <th>/api/v1/items?page=2</th>\n",
       "      <td>291</td>\n",
       "      <td>0.020818</td>\n",
       "    </tr>\n",
       "    <tr>\n",
       "      <th>/api/v1/items?page=3</th>\n",
       "      <td>219</td>\n",
       "      <td>0.015667</td>\n",
       "    </tr>\n",
       "    <tr>\n",
       "      <th>/api/v1/stores</th>\n",
       "      <td>162</td>\n",
       "      <td>0.011590</td>\n",
       "    </tr>\n",
       "  </tbody>\n",
       "</table>\n",
       "</div>"
      ],
      "text/plain": [
       "                      count     proba\n",
       "/api/v1/sales?page=2    709  0.050723\n",
       "/api/v1/items           464  0.033195\n",
       "/api/v1/items?page=2    291  0.020818\n",
       "/api/v1/items?page=3    219  0.015667\n",
       "/api/v1/stores          162  0.011590"
      ]
     },
     "execution_count": 14,
     "metadata": {},
     "output_type": "execute_result"
    }
   ],
   "source": [
    "value_counts_and_frequencies(df.request_path).head()"
   ]
  },
  {
   "cell_type": "code",
   "execution_count": 15,
   "id": "df4b809f",
   "metadata": {},
   "outputs": [
    {
     "data": {
      "text/html": [
       "<div>\n",
       "<style scoped>\n",
       "    .dataframe tbody tr th:only-of-type {\n",
       "        vertical-align: middle;\n",
       "    }\n",
       "\n",
       "    .dataframe tbody tr th {\n",
       "        vertical-align: top;\n",
       "    }\n",
       "\n",
       "    .dataframe thead th {\n",
       "        text-align: right;\n",
       "    }\n",
       "</style>\n",
       "<table border=\"1\" class=\"dataframe\">\n",
       "  <thead>\n",
       "    <tr style=\"text-align: right;\">\n",
       "      <th></th>\n",
       "      <th>count</th>\n",
       "      <th>proba</th>\n",
       "    </tr>\n",
       "  </thead>\n",
       "  <tbody>\n",
       "    <tr>\n",
       "      <th>/api/v1</th>\n",
       "      <td>1</td>\n",
       "      <td>0.000072</td>\n",
       "    </tr>\n",
       "    <tr>\n",
       "      <th>/api/v1//api/v1/items/next_page</th>\n",
       "      <td>1</td>\n",
       "      <td>0.000072</td>\n",
       "    </tr>\n",
       "    <tr>\n",
       "      <th>/api/v1//api/v1/items</th>\n",
       "      <td>1</td>\n",
       "      <td>0.000072</td>\n",
       "    </tr>\n",
       "    <tr>\n",
       "      <th>/api/v1/items?page=0</th>\n",
       "      <td>1</td>\n",
       "      <td>0.000072</td>\n",
       "    </tr>\n",
       "    <tr>\n",
       "      <th>/api/V1/HiZach!</th>\n",
       "      <td>1</td>\n",
       "      <td>0.000072</td>\n",
       "    </tr>\n",
       "  </tbody>\n",
       "</table>\n",
       "</div>"
      ],
      "text/plain": [
       "                                 count     proba\n",
       "/api/v1                              1  0.000072\n",
       "/api/v1//api/v1/items/next_page      1  0.000072\n",
       "/api/v1//api/v1/items                1  0.000072\n",
       "/api/v1/items?page=0                 1  0.000072\n",
       "/api/V1/HiZach!                      1  0.000072"
      ]
     },
     "execution_count": 15,
     "metadata": {},
     "output_type": "execute_result"
    }
   ],
   "source": [
    "value_counts_and_frequencies(df.request_path).tail()"
   ]
  },
  {
   "cell_type": "code",
   "execution_count": 20,
   "id": "b16a63ac",
   "metadata": {},
   "outputs": [
    {
     "data": {
      "text/html": [
       "<div>\n",
       "<style scoped>\n",
       "    .dataframe tbody tr th:only-of-type {\n",
       "        vertical-align: middle;\n",
       "    }\n",
       "\n",
       "    .dataframe tbody tr th {\n",
       "        vertical-align: top;\n",
       "    }\n",
       "\n",
       "    .dataframe thead th {\n",
       "        text-align: right;\n",
       "    }\n",
       "</style>\n",
       "<table border=\"1\" class=\"dataframe\">\n",
       "  <thead>\n",
       "    <tr style=\"text-align: right;\">\n",
       "      <th></th>\n",
       "      <th>count</th>\n",
       "      <th>proba</th>\n",
       "    </tr>\n",
       "  </thead>\n",
       "  <tbody>\n",
       "    <tr>\n",
       "      <th>python-requests/2.21.0</th>\n",
       "      <td>12005</td>\n",
       "      <td>0.858850</td>\n",
       "    </tr>\n",
       "    <tr>\n",
       "      <th>python-requests/2.20.1</th>\n",
       "      <td>1911</td>\n",
       "      <td>0.136715</td>\n",
       "    </tr>\n",
       "    <tr>\n",
       "      <th>Mozilla/5.0 (Macintosh; Intel Mac OS X 10_14_4) AppleWebKit/537.36 (KHTML, like Gecko) Chrome/73.0.3683.103 Safari/537.36</th>\n",
       "      <td>34</td>\n",
       "      <td>0.002432</td>\n",
       "    </tr>\n",
       "    <tr>\n",
       "      <th>Mozilla/5.0 (Macintosh; Intel Mac OS X 10.14; rv:66.0) Gecko/20100101 Firefox/66.0</th>\n",
       "      <td>8</td>\n",
       "      <td>0.000572</td>\n",
       "    </tr>\n",
       "    <tr>\n",
       "      <th>Slackbot-LinkExpanding 1.0 (+https://api.slack.com/robots)</th>\n",
       "      <td>7</td>\n",
       "      <td>0.000501</td>\n",
       "    </tr>\n",
       "    <tr>\n",
       "      <th>Slackbot 1.0 (+https://api.slack.com/robots)</th>\n",
       "      <td>6</td>\n",
       "      <td>0.000429</td>\n",
       "    </tr>\n",
       "    <tr>\n",
       "      <th>Mozilla/5.0 (Macintosh; Intel Mac OS X 10_14_3) AppleWebKit/537.36 (KHTML, like Gecko) Chrome/73.0.3683.103 Safari/537.36</th>\n",
       "      <td>4</td>\n",
       "      <td>0.000286</td>\n",
       "    </tr>\n",
       "    <tr>\n",
       "      <th>Mozilla/5.0 (Macintosh; Intel Mac OS X 10_14_3) AppleWebKit/537.36 (KHTML, like Gecko) Chrome/72.0.3626.121 Safari/537.36</th>\n",
       "      <td>2</td>\n",
       "      <td>0.000143</td>\n",
       "    </tr>\n",
       "    <tr>\n",
       "      <th>Python-urllib/3.7</th>\n",
       "      <td>1</td>\n",
       "      <td>0.000072</td>\n",
       "    </tr>\n",
       "  </tbody>\n",
       "</table>\n",
       "</div>"
      ],
      "text/plain": [
       "                                                    count     proba\n",
       "python-requests/2.21.0                              12005  0.858850\n",
       "python-requests/2.20.1                               1911  0.136715\n",
       "Mozilla/5.0 (Macintosh; Intel Mac OS X 10_14_4)...     34  0.002432\n",
       "Mozilla/5.0 (Macintosh; Intel Mac OS X 10.14; r...      8  0.000572\n",
       "Slackbot-LinkExpanding 1.0 (+https://api.slack....      7  0.000501\n",
       "Slackbot 1.0 (+https://api.slack.com/robots)            6  0.000429\n",
       "Mozilla/5.0 (Macintosh; Intel Mac OS X 10_14_3)...      4  0.000286\n",
       "Mozilla/5.0 (Macintosh; Intel Mac OS X 10_14_3)...      2  0.000143\n",
       "Python-urllib/3.7                                       1  0.000072"
      ]
     },
     "execution_count": 20,
     "metadata": {},
     "output_type": "execute_result"
    }
   ],
   "source": [
    "user=value_counts_and_frequencies(df.user_agent)\n",
    "user"
   ]
  },
  {
   "cell_type": "code",
   "execution_count": 21,
   "id": "3cfaf43e",
   "metadata": {},
   "outputs": [
    {
     "data": {
      "text/plain": [
       "<AxesSubplot:>"
      ]
     },
     "execution_count": 21,
     "metadata": {},
     "output_type": "execute_result"
    },
    {
     "data": {
      "image/png": "[encoded data removed]",
      "text/plain": [
       "<Figure size 500x900 with 1 Axes>"
      ]
     },
     "metadata": {},
     "output_type": "display_data"
    }
   ],
   "source": [
    "user['count'].sort_values().plot.barh(figsize=(5, 9))\n"
   ]
  },
  {
   "cell_type": "code",
   "execution_count": null,
   "id": "86021765",
   "metadata": {},
   "outputs": [],
   "source": []
  }
 ],
 "metadata": {
  "kernelspec": {
   "display_name": "Python 3 (ipykernel)",
   "language": "python",
   "name": "python3"
  },
  "language_info": {
   "codemirror_mode": {
    "name": "ipython",
    "version": 3
   },
   "file_extension": ".py",
   "mimetype": "text/x-python",
   "name": "python",
   "nbconvert_exporter": "python",
   "pygments_lexer": "ipython3",
   "version": "3.9.13"
  }
 },
 "nbformat": 4,
 "nbformat_minor": 5
}
